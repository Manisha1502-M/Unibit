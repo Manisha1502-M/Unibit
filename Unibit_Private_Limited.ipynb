{
 "cells": [
  {
   "cell_type": "code",
   "execution_count": 6,
   "id": "42bcc349",
   "metadata": {},
   "outputs": [],
   "source": [
    "## Given an array of integers and a target value, you must determine which two integers sum equals the target and return a 2D array. Then merge the array into a single array with sorting (ascending) order,in the next step double the target value and find again the combination ofdigits (can be multiple digits ) that are equal to the double targeted value and returned into a 2D array.\n"
   ]
  },
  {
   "cell_type": "code",
   "execution_count": 78,
   "id": "a950e8c2",
   "metadata": {},
   "outputs": [
    {
     "name": "stdout",
     "output_type": "stream",
     "text": [
      "First Combination for 4 : [[1, 3], [2, 2], [-4, 8]]\n",
      "Merge Into a single Array: [-6, -4, -2, 1, 2, 2, 3, 8]\n",
      "Second Combination for 8 : [[1, 2, 2, 3]]\n"
     ]
    }
   ],
   "source": [
    "def combinations(nums, target):\n",
    "    \n",
    "    combinations = []\n",
    "    for i in range(len(nums)):\n",
    "        for j in range(i + 1, len(nums)):\n",
    "            if nums[i] + nums[j] == target:\n",
    "                combinations.append([nums[i], nums[j]])\n",
    "                \n",
    "    merged_array = sorted(nums)\n",
    "    double_target = target * 2\n",
    "    \n",
    "    combinations_double = []\n",
    "    for i in range(len(merged_array)):\n",
    "        for j in range(i + 1, len(merged_array)):\n",
    "            if sum(merged_array[i:j + 1]) == double_target:\n",
    "                combinations_double.append(merged_array[i:j + 1])\n",
    "                \n",
    "    return combinations, merged_array, combinations_double\n",
    "\n",
    "nums = [1, 3, 2, 2, -4, -6, -2, 8]\n",
    "target = 4\n",
    "\n",
    "first_combinations, merged_array, second_combinations = combinations(nums, target)\n",
    "print(\"First Combination for\", target,\":\", first_combinations)\n",
    "print(\"Merge Into a single Array:\", merged_array)\n",
    "print(\"Second Combination for\", target * 2,\":\", second_combinations)"
   ]
  },
  {
   "cell_type": "code",
   "execution_count": 75,
   "id": "a3293066",
   "metadata": {},
   "outputs": [
    {
     "name": "stdout",
     "output_type": "stream",
     "text": [
      "[[6, 1], [5, 2], [3, 4], [10, -3]]\n"
     ]
    }
   ],
   "source": [
    "def find_pairs(nums, target):\n",
    "    pairs = []\n",
    "    list = set()\n",
    "\n",
    "    for num in nums:\n",
    "        complement = target - num\n",
    "        if complement in list:\n",
    "            pair = [num, complement]\n",
    "            pairs.append(pair)\n",
    "        list.add(num)\n",
    "\n",
    "    return pairs\n",
    "\n",
    "input_array = [2, -2, 4, 1, 6, 5, 3, -3, 10]\n",
    "target_value = 7\n",
    "\n",
    "result = find_pairs(input_array, target_value)\n",
    "print(result)"
   ]
  },
  {
   "cell_type": "code",
   "execution_count": 76,
   "id": "6c2dc2c3",
   "metadata": {},
   "outputs": [
    {
     "name": "stdout",
     "output_type": "stream",
     "text": [
      "Merge into a single array :\n",
      "[-3, 1, 2, 3, 4, 5, 6, 10]\n"
     ]
    }
   ],
   "source": [
    "merged_array = sorted(sum(result, []))\n",
    "print(\"Merge into a single array :\")\n",
    "print(merged_array)"
   ]
  },
  {
   "cell_type": "code",
   "execution_count": 77,
   "id": "4ca6ce62",
   "metadata": {},
   "outputs": [
    {
     "name": "stdout",
     "output_type": "stream",
     "text": [
      "[[4, 10]]\n"
     ]
    }
   ],
   "source": [
    "doubled_target = target_value * 2\n",
    "\n",
    "double_target_combinations = []\n",
    "for i in range(len(merged_array)):\n",
    "    for j in range(i + 1, len(merged_array)):\n",
    "        if merged_array[i] + merged_array[j] == doubled_target:\n",
    "            double_target_combinations.append([merged_array[i], merged_array[j]])\n",
    "\n",
    "print(double_target_combinations)"
   ]
  },
  {
   "cell_type": "code",
   "execution_count": null,
   "id": "dbeadc68",
   "metadata": {},
   "outputs": [],
   "source": []
  }
 ],
 "metadata": {
  "kernelspec": {
   "display_name": "Python 3 (ipykernel)",
   "language": "python",
   "name": "python3"
  },
  "language_info": {
   "codemirror_mode": {
    "name": "ipython",
    "version": 3
   },
   "file_extension": ".py",
   "mimetype": "text/x-python",
   "name": "python",
   "nbconvert_exporter": "python",
   "pygments_lexer": "ipython3",
   "version": "3.9.12"
  }
 },
 "nbformat": 4,
 "nbformat_minor": 5
}
